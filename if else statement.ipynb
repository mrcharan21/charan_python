{
 "cells": [
  {
   "cell_type": "code",
   "execution_count": 3,
   "metadata": {},
   "outputs": [
    {
     "name": "stdout",
     "output_type": "stream",
     "text": [
      "positive\n"
     ]
    }
   ],
   "source": [
    "#Wap to check whether a given value is positive value or negative value \n",
    "#if is positive value to display \"given value is positive value or else given value is a negative value\".\n",
    "n=10\n",
    "if(n>0):\n",
    "    print(\"positive\")\n",
    "else:\n",
    "    print(\"negative\")"
   ]
  },
  {
   "cell_type": "code",
   "execution_count": 11,
   "metadata": {},
   "outputs": [
    {
     "name": "stdout",
     "output_type": "stream",
     "text": [
      "16\n"
     ]
    }
   ],
   "source": [
    "#wap to check whether a given value is even or odd.\n",
    "#if it is even performs square of the given value or else to find out the cube of the given number\n",
    "n=4\n",
    "if n%2==0:\n",
    "    print(n**2)\n",
    "\n",
    "else:\n",
    "    print(n**3)\n",
    "    "
   ]
  },
  {
   "cell_type": "code",
   "execution_count": 28,
   "metadata": {},
   "outputs": [],
   "source": [
    "#wap to check given string is palindrome or not.If it is palindrome from'0' positive value to middle of the string or else to display the reverse list.\n",
    "# s=\"MADAM\"\n",
    "# if (s[0:2-1]==s):\n",
    "#     print(s[0(len(s)//2)+1])\n",
    "# else:\n",
    "#     print(s[0:2-1])\n"
   ]
  },
  {
   "cell_type": "code",
   "execution_count": null,
   "metadata": {},
   "outputs": [],
   "source": []
  }
 ],
 "metadata": {
  "kernelspec": {
   "display_name": "Python 3",
   "language": "python",
   "name": "python3"
  },
  "language_info": {
   "codemirror_mode": {
    "name": "ipython",
    "version": 3
   },
   "file_extension": ".py",
   "mimetype": "text/x-python",
   "name": "python",
   "nbconvert_exporter": "python",
   "pygments_lexer": "ipython3",
   "version": "3.10.11"
  },
  "orig_nbformat": 4
 },
 "nbformat": 4,
 "nbformat_minor": 2
}
