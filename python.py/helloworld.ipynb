{
 "cells": [
  {
   "cell_type": "code",
   "execution_count": 3,
   "metadata": {},
   "outputs": [
    {
     "name": "stdout",
     "output_type": "stream",
     "text": [
      "helloworld\n"
     ]
    },
    {
     "data": {
      "text/plain": [
       "<function print>"
      ]
     },
     "execution_count": 3,
     "metadata": {},
     "output_type": "execute_result"
    }
   ],
   "source": [
    "print('helloworld')\n",
    "print"
   ]
  },
  {
   "cell_type": "code",
   "execution_count": 6,
   "metadata": {},
   "outputs": [],
   "source": [
    "a=10\n",
    "b=20\n",
    "c=a+b"
   ]
  },
  {
   "cell_type": "code",
   "execution_count": 7,
   "metadata": {},
   "outputs": [
    {
     "data": {
      "text/plain": [
       "30"
      ]
     },
     "execution_count": 7,
     "metadata": {},
     "output_type": "execute_result"
    }
   ],
   "source": [
    "a=10\n",
    "b=20\n",
    "c=a+b\n",
    "c"
   ]
  },
  {
   "cell_type": "code",
   "execution_count": 11,
   "metadata": {},
   "outputs": [
    {
     "data": {
      "text/plain": [
       "set"
      ]
     },
     "execution_count": 11,
     "metadata": {},
     "output_type": "execute_result"
    }
   ],
   "source": [
    "a={120}\n",
    "type(a)"
   ]
  },
  {
   "cell_type": "code",
   "execution_count": 18,
   "metadata": {},
   "outputs": [
    {
     "name": "stdout",
     "output_type": "stream",
     "text": [
      "charan\n",
      "26\n",
      "True\n",
      "9347905257\n",
      "charan 26 9347905257 True\n"
     ]
    }
   ],
   "source": [
    "name=\"charan\"\n",
    "age=26\n",
    "phone=9347905257\n",
    "# email=charanguguloth@gmail.com\n",
    "pancard=True\n",
    "# print(name)\n",
    "# print(age)\n",
    "# print(pancard)\n",
    "# print(phone)\n",
    "print(name,age,phone,pancard)"
   ]
  },
  {
   "cell_type": "code",
   "execution_count": 24,
   "metadata": {},
   "outputs": [
    {
     "name": "stdout",
     "output_type": "stream",
     "text": [
      "True\n",
      "False\n"
     ]
    }
   ],
   "source": [
    "n=9\n",
    "res=n%3\n",
    "res\n",
    "# res==0\n",
    "n=9\n",
    "print(n%3==0)\n",
    "n=16\n",
    "print(n%3==0)\n"
   ]
  },
  {
   "cell_type": "code",
   "execution_count": 3,
   "metadata": {},
   "outputs": [
    {
     "name": "stdout",
     "output_type": "stream",
     "text": [
      "150 120 250\n"
     ]
    }
   ],
   "source": [
    "#write a statement to intilize multivarilable values are 150,120,250 (take your own variable names)\n",
    "a,b,c=150,120,250\n",
    "print(a,b,c)"
   ]
  },
  {
   "cell_type": "code",
   "execution_count": 7,
   "metadata": {},
   "outputs": [
    {
     "data": {
      "text/plain": [
       "1788865625696"
      ]
     },
     "execution_count": 7,
     "metadata": {},
     "output_type": "execute_result"
    }
   ],
   "source": [
    "#was to print the type of the data in given value\n",
    "a={10,20}\n",
    "type(a)\n"
   ]
  },
  {
   "cell_type": "code",
   "execution_count": 10,
   "metadata": {},
   "outputs": [
    {
     "data": {
      "text/plain": [
       "250"
      ]
     },
     "execution_count": 10,
     "metadata": {},
     "output_type": "execute_result"
    }
   ],
   "source": [
    "a=150\n",
    "b=120\n",
    "c=250\n",
    "a\n",
    "b\n",
    "c"
   ]
  },
  {
   "cell_type": "code",
   "execution_count": 8,
   "metadata": {},
   "outputs": [
    {
     "data": {
      "text/plain": [
       "1788865623904"
      ]
     },
     "execution_count": 8,
     "metadata": {},
     "output_type": "execute_result"
    }
   ],
   "source": [
    "#wra to print the address of memory block in given value\n",
    "id(a)\n",
    "id({10,20})"
   ]
  },
  {
   "cell_type": "code",
   "execution_count": 17,
   "metadata": {},
   "outputs": [],
   "source": [
    "#WAS to swap the two values with temp varilable\n",
    "x=\"hai\"\n",
    "y=\"bye\"\n",
    "temp=x\n",
    "# x=y\n",
    "# y=temp\n",
    "# # x=\"bye\"\n",
    "# # y=\"hai\"\n"
   ]
  },
  {
   "cell_type": "code",
   "execution_count": 20,
   "metadata": {},
   "outputs": [
    {
     "data": {
      "text/plain": [
       "[10, 20]"
      ]
     },
     "execution_count": 20,
     "metadata": {},
     "output_type": "execute_result"
    }
   ],
   "source": [
    "#was to swap the two values without temp variable\n",
    "m=[10,20]\n",
    "n=[10,20]\n",
    "m,n=n,m\n",
    "m\n",
    "n"
   ]
  },
  {
   "cell_type": "code",
   "execution_count": 28,
   "metadata": {},
   "outputs": [
    {
     "data": {
      "text/plain": [
       "[10, 20, 30, 40, 50, 60]"
      ]
     },
     "execution_count": 28,
     "metadata": {},
     "output_type": "execute_result"
    }
   ],
   "source": [
    "#Was to intilize a value and print the value,after print the value,then reintilize the new value to the existing variable and displaythe value\n",
    "a={'a':\"pyspiders\"}\n",
    "a\n",
    "a['a']\n",
    "a['a']:'qpspiders'\n",
    "a\n",
    "{'a':'qspiders'}\n",
    "a['a']\n",
    "a=[10,20,30]\n",
    "a\n",
    "a+=[40,50,60]\n",
    "a"
   ]
  },
  {
   "cell_type": "code",
   "execution_count": 35,
   "metadata": {},
   "outputs": [
    {
     "data": {
      "text/plain": [
       "[10, 20, 30, 'h', 'a', 'i']"
      ]
     },
     "execution_count": 35,
     "metadata": {},
     "output_type": "execute_result"
    }
   ],
   "source": [
    "#WAS to concat the two multi value data types (str,list,set,dict)\n",
    "x=\"hello\"\n",
    "x+=\"world\"\n",
    "x\n",
    "y=[10,20,30]\n",
    "y+=[40,50,60]\n",
    "y\n",
    "y=[10,20,30]\n",
    "y+=\"hai\"\n",
    "y"
   ]
  },
  {
   "cell_type": "code",
   "execution_count": 42,
   "metadata": {},
   "outputs": [
    {
     "data": {
      "text/plain": [
       "{10, 20, 30, 40, 50, 60}"
      ]
     },
     "execution_count": 42,
     "metadata": {},
     "output_type": "execute_result"
    }
   ],
   "source": [
    "#was to check the length of the collection\n",
    "x={10:20,30:40,'a':'hai','b':'bye'}\n",
    "len(x)\n",
    "c=\"hello\"\n",
    "len(c)\n",
    "d=[10,20,40,50,60]\n",
    "d\n",
    "s={10,20,30,40,50,60}\n",
    "len(s)\n",
    "s"
   ]
  },
  {
   "cell_type": "code",
   "execution_count": 48,
   "metadata": {},
   "outputs": [
    {
     "data": {
      "text/plain": [
       "30"
      ]
     },
     "execution_count": 48,
     "metadata": {},
     "output_type": "execute_result"
    }
   ],
   "source": [
    "# WAE to check ,find out the middle value of the given collection\n",
    "d=[10,20,40,50,60]\n",
    "d[len(d)//2]\n",
    "l=[10,20,30,40]\n",
    "l[len(l)//2]"
   ]
  },
  {
   "cell_type": "code",
   "execution_count": 50,
   "metadata": {},
   "outputs": [
    {
     "data": {
      "text/plain": [
       "'haihow r u'"
      ]
     },
     "execution_count": 50,
     "metadata": {},
     "output_type": "execute_result"
    }
   ],
   "source": [
    "#was to concat the new string into the starting of the given string\n",
    "a=\"how r u\"\n",
    "b=\"hai\"\n",
    "b+a\n",
    "a=b+a\n",
    "a\n"
   ]
  },
  {
   "cell_type": "code",
   "execution_count": null,
   "metadata": {},
   "outputs": [],
   "source": []
  }
 ],
 "metadata": {
  "kernelspec": {
   "display_name": "Python 3",
   "language": "python",
   "name": "python3"
  },
  "language_info": {
   "codemirror_mode": {
    "name": "ipython",
    "version": 3
   },
   "file_extension": ".py",
   "mimetype": "text/x-python",
   "name": "python",
   "nbconvert_exporter": "python",
   "pygments_lexer": "ipython3",
   "version": "3.10.11"
  },
  "orig_nbformat": 4
 },
 "nbformat": 4,
 "nbformat_minor": 2
}
